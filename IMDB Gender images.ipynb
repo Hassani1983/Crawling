{
 "cells": [
  {
   "cell_type": "code",
   "execution_count": 1,
   "id": "ac177403",
   "metadata": {},
   "outputs": [],
   "source": [
    "import warnings\n",
    "warnings.filterwarnings(\"ignore\")"
   ]
  },
  {
   "cell_type": "code",
   "execution_count": 2,
   "id": "0f066860",
   "metadata": {},
   "outputs": [],
   "source": [
    "from bs4 import BeautifulSoup\n",
    "import requests\n",
    "import random\n",
    "import time\n",
    "import os\n",
    "from PIL import Image\n",
    "from io import BytesIO\n",
    "from lxml import etree"
   ]
  },
  {
   "cell_type": "code",
   "execution_count": 3,
   "id": "2c83de75",
   "metadata": {},
   "outputs": [
    {
     "name": "stdout",
     "output_type": "stream",
     "text": [
      "Pics Folder Already Exist\n",
      "Male Folder Already Exist\n",
      "Female Folder Already Exist\n"
     ]
    }
   ],
   "source": [
    "male_path = \"./Pics/Male\"\n",
    "female_path = \"./Pics/Female\"\n",
    "if not os.path.exists(\"./Pics\"):\n",
    "    os.mkdir(\"./Pics\")\n",
    "    print(\"Pics Folder Created\")\n",
    "else:\n",
    "    print(\"Pics Folder Already Exist\")\n",
    "if not os.path.exists(male_path):\n",
    "    os.mkdir(male_path)\n",
    "    print(\"Male Folder Created\")\n",
    "else:\n",
    "    print(\"Male Folder Already Exist\")\n",
    "if not os.path.exists(female_path):\n",
    "    os.mkdir(female_path)\n",
    "    print(\"Female Folder Created\")\n",
    "else:\n",
    "    print(\"Female Folder Already Exist\")"
   ]
  },
  {
   "cell_type": "code",
   "execution_count": null,
   "id": "3b24e437",
   "metadata": {},
   "outputs": [],
   "source": [
    "# from tqdm import tqdm\n",
    "base_xpath_address = '//*[@id=\"main\"]/div/div[3]'\n",
    "gender = [\"male\", \"female\"]\n",
    "\n",
    "for g in gender:\n",
    "    if g == \"male\":\n",
    "        path = male_path\n",
    "    elif g == \"female\":\n",
    "        path = female_path\n",
    "\n",
    "    for n in range(1,21):\n",
    "        page_url = f'https://www.imdb.com/search/name/?gender={g}&count=250&start={((n-1)*250)+1}&ref_=rlm'\n",
    "        page = requests.get(page_url)\n",
    "        soup = BeautifulSoup(page.text, \"html.parser\")\n",
    "        tree = etree.HTML(str(soup))\n",
    "        time.sleep(random.randint(3,7)) \n",
    "        # =======================Colecting Names====================\n",
    "        lst_Name = []\n",
    "        for i in range(1, 251):  \n",
    "            xpath_address_Name = f'{base_xpath_address}/div[{i}]/div[2]/h3/a'\n",
    "            lst_Name.append(tree.xpath(xpath_address_Name)[0].text)\n",
    "\n",
    "        # =======================Colecting Images===================\n",
    "        for i in range(1, 251):  \n",
    "            xpath_address_img = f'{base_xpath_address}/div[{i}]/div[1]/a/img'\n",
    "            image_element = tree.xpath(xpath_address_img)\n",
    "\n",
    "            if image_element:\n",
    "                image_url = image_element[0].get('src')\n",
    "                # Send a request to the image URL and retrieve its content\n",
    "                image_response = requests.get(image_url)\n",
    "                # Create an Image object from the image content\n",
    "                image = Image.open(BytesIO(image_response.content))\n",
    "                # Specify the file path where you want to save the image  \n",
    "                if image_url[-3:] == 'jpg':\n",
    "                    file_path = f\"{path}/{lst_Name[i-1].strip()}.jpg\"\n",
    "                else:\n",
    "                    file_path = f\"{path}/{lst_Name[i-1].strip()}.png\"\n",
    "                # Save the image to the file path\n",
    "                image.save(file_path)"
   ]
  },
  {
   "cell_type": "code",
   "execution_count": null,
   "id": "e037ffee",
   "metadata": {},
   "outputs": [],
   "source": []
  }
 ],
 "metadata": {
  "kernelspec": {
   "display_name": "Python 3 (ipykernel)",
   "language": "python",
   "name": "python3"
  },
  "language_info": {
   "codemirror_mode": {
    "name": "ipython",
    "version": 3
   },
   "file_extension": ".py",
   "mimetype": "text/x-python",
   "name": "python",
   "nbconvert_exporter": "python",
   "pygments_lexer": "ipython3",
   "version": "3.9.13"
  }
 },
 "nbformat": 4,
 "nbformat_minor": 5
}
